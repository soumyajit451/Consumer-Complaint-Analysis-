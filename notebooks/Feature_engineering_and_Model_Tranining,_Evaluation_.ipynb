{
  "cells": [
    {
      "cell_type": "markdown",
      "metadata": {
        "id": "RGiN3DmkgNjM"
      },
      "source": [
        "# Load Data\n"
      ]
    },
    {
      "cell_type": "code",
      "execution_count": 1,
      "metadata": {
        "colab": {
          "base_uri": "https://localhost:8080/",
          "height": 142
        },
        "id": "CPLU6TBu9zxZ",
        "outputId": "ad6db22b-b09b-4661-855a-1cc321c676cb"
      },
      "outputs": [
        {
          "name": "stderr",
          "output_type": "stream",
          "text": [
            "Downloading...\n",
            "From (original): https://drive.google.com/uc?id=1b_hy_SLK0WzaEcQmLiesyuJ9E4SzYa-r\n",
            "From (redirected): https://drive.google.com/uc?id=1b_hy_SLK0WzaEcQmLiesyuJ9E4SzYa-r&confirm=t&uuid=b0bb0ee2-fb46-4cfe-9255-980b30ac1d9a\n",
            "To: /content/consumer_complaint_cleaned.zip\n",
            "100%|██████████| 93.6M/93.6M [00:04<00:00, 19.3MB/s]\n"
          ]
        },
        {
          "data": {
            "application/vnd.google.colaboratory.intrinsic+json": {
              "type": "string"
            },
            "text/plain": [
              "'consumer_complaint_cleaned.zip'"
            ]
          },
          "execution_count": 1,
          "metadata": {},
          "output_type": "execute_result"
        }
      ],
      "source": [
        "import gdown\n",
        "# URL of the file\n",
        "url = 'https://drive.google.com/uc?id=1b_hy_SLK0WzaEcQmLiesyuJ9E4SzYa-r'\n",
        "\n",
        "# Downloading the zip file\n",
        "output = 'consumer_complaint_cleaned.zip'\n",
        "gdown.download(url, output, quiet=False)"
      ]
    },
    {
      "cell_type": "code",
      "execution_count": 2,
      "metadata": {
        "id": "94zia70A9z0J"
      },
      "outputs": [],
      "source": [
        "import zipfile\n",
        "# Extracting the zip file\n",
        "with zipfile.ZipFile(output, 'r') as zip_ref:\n",
        "    zip_ref.extractall('consumer_complaint_cleaned')"
      ]
    },
    {
      "cell_type": "code",
      "execution_count": 2,
      "metadata": {
        "id": "39D8HpYz9z2i"
      },
      "outputs": [],
      "source": [
        "import pandas as pd\n",
        "import os\n",
        "# Path to the CSV file\n",
        "csv_file_path = os.path.join('consumer_complaint_cleaned', 'consumer_complaint_cleaned.csv')\n",
        "\n",
        "# Loading the CSV file into a pandas DataFrame\n",
        "consumer_complaint_cleaned = pd.read_csv(csv_file_path)"
      ]
    },
    {
      "cell_type": "code",
      "execution_count": 3,
      "metadata": {
        "colab": {
          "base_uri": "https://localhost:8080/",
          "height": 637
        },
        "id": "T1iKdwcg-gfO",
        "outputId": "a42cd4a8-5cff-49b7-a904-cf45d38cec2f"
      },
      "outputs": [
        {
          "data": {
            "application/vnd.google.colaboratory.intrinsic+json": {
              "type": "dataframe",
              "variable_name": "consumer_complaint_cleaned"
            },
            "text/html": [
              "\n",
              "  <div id=\"df-8e20be63-a161-4b5b-ad13-2e058dd04bee\" class=\"colab-df-container\">\n",
              "    <div>\n",
              "<style scoped>\n",
              "    .dataframe tbody tr th:only-of-type {\n",
              "        vertical-align: middle;\n",
              "    }\n",
              "\n",
              "    .dataframe tbody tr th {\n",
              "        vertical-align: top;\n",
              "    }\n",
              "\n",
              "    .dataframe thead th {\n",
              "        text-align: right;\n",
              "    }\n",
              "</style>\n",
              "<table border=\"1\" class=\"dataframe\">\n",
              "  <thead>\n",
              "    <tr style=\"text-align: right;\">\n",
              "      <th></th>\n",
              "      <th>Date Received</th>\n",
              "      <th>Product</th>\n",
              "      <th>Sub-Product</th>\n",
              "      <th>Issue</th>\n",
              "      <th>Sub-Issue</th>\n",
              "      <th>Consumer Complaint Narrative</th>\n",
              "      <th>Company Public Response</th>\n",
              "      <th>Company</th>\n",
              "      <th>State</th>\n",
              "      <th>Zip Code</th>\n",
              "      <th>...</th>\n",
              "      <th>Consumer Consent Provided?</th>\n",
              "      <th>Submitted Via</th>\n",
              "      <th>Date Sent To Company</th>\n",
              "      <th>Company Response To Consumer</th>\n",
              "      <th>Timely Response?</th>\n",
              "      <th>Consumer Disputed?</th>\n",
              "      <th>Complaint Id</th>\n",
              "      <th>Year</th>\n",
              "      <th>Month</th>\n",
              "      <th>Week_Days</th>\n",
              "    </tr>\n",
              "  </thead>\n",
              "  <tbody>\n",
              "    <tr>\n",
              "      <th>0</th>\n",
              "      <td>2016-12-29</td>\n",
              "      <td>Credit reporting</td>\n",
              "      <td>Sub Product not listed</td>\n",
              "      <td>Credit reporting company's investigation</td>\n",
              "      <td>No notice of investigation status/result</td>\n",
              "      <td>I disputed information on my Chexsystems repor...</td>\n",
              "      <td>Company Public Response  not listed</td>\n",
              "      <td>Fidelity National Information Services, Inc. (...</td>\n",
              "      <td>KY</td>\n",
              "      <td>42301</td>\n",
              "      <td>...</td>\n",
              "      <td>Consent provided</td>\n",
              "      <td>Web</td>\n",
              "      <td>2016-12-29</td>\n",
              "      <td>Closed with explanation</td>\n",
              "      <td>Yes</td>\n",
              "      <td>Yes</td>\n",
              "      <td>2268968</td>\n",
              "      <td>2016</td>\n",
              "      <td>December</td>\n",
              "      <td>Thursday</td>\n",
              "    </tr>\n",
              "    <tr>\n",
              "      <th>1</th>\n",
              "      <td>2015-07-10</td>\n",
              "      <td>Student loan</td>\n",
              "      <td>Non-federal student loan</td>\n",
              "      <td>Dealing with my lender or servicer</td>\n",
              "      <td>Trouble with how payments are handled</td>\n",
              "      <td>I have being paying my student loan ( {$500.00...</td>\n",
              "      <td>Company Public Response  not listed</td>\n",
              "      <td>HEARTLAND PAYMENT SYSTEMS INC</td>\n",
              "      <td>IL</td>\n",
              "      <td>60659</td>\n",
              "      <td>...</td>\n",
              "      <td>Consent provided</td>\n",
              "      <td>Web</td>\n",
              "      <td>2015-07-21</td>\n",
              "      <td>Closed with explanation</td>\n",
              "      <td>Yes</td>\n",
              "      <td>No</td>\n",
              "      <td>1461598</td>\n",
              "      <td>2015</td>\n",
              "      <td>July</td>\n",
              "      <td>Friday</td>\n",
              "    </tr>\n",
              "    <tr>\n",
              "      <th>2</th>\n",
              "      <td>2017-02-14</td>\n",
              "      <td>Debt collection</td>\n",
              "      <td>Payday loan</td>\n",
              "      <td>Communication tactics</td>\n",
              "      <td>Frequent or repeated calls</td>\n",
              "      <td>Between XXXX and XXXX on XX/XX/2017 I have rec...</td>\n",
              "      <td>Company Public Response  not listed</td>\n",
              "      <td>ONEMAIN FINANCIAL HOLDINGS, LLC.</td>\n",
              "      <td>NJ</td>\n",
              "      <td>080XX</td>\n",
              "      <td>...</td>\n",
              "      <td>Consent provided</td>\n",
              "      <td>Web</td>\n",
              "      <td>2017-02-14</td>\n",
              "      <td>Closed with explanation</td>\n",
              "      <td>Yes</td>\n",
              "      <td>No</td>\n",
              "      <td>2343333</td>\n",
              "      <td>2017</td>\n",
              "      <td>February</td>\n",
              "      <td>Tuesday</td>\n",
              "    </tr>\n",
              "    <tr>\n",
              "      <th>3</th>\n",
              "      <td>2015-12-14</td>\n",
              "      <td>Credit reporting</td>\n",
              "      <td>Sub Product not listed</td>\n",
              "      <td>Incorrect information on credit report</td>\n",
              "      <td>Information is not mine</td>\n",
              "      <td>Complaint not listed</td>\n",
              "      <td>Company chooses not to provide a public response</td>\n",
              "      <td>Experian Information Solutions Inc.</td>\n",
              "      <td>CA</td>\n",
              "      <td>90020</td>\n",
              "      <td>...</td>\n",
              "      <td>data not listed</td>\n",
              "      <td>Phone</td>\n",
              "      <td>2015-12-16</td>\n",
              "      <td>Closed with explanation</td>\n",
              "      <td>Yes</td>\n",
              "      <td>No</td>\n",
              "      <td>1695201</td>\n",
              "      <td>2015</td>\n",
              "      <td>December</td>\n",
              "      <td>Monday</td>\n",
              "    </tr>\n",
              "    <tr>\n",
              "      <th>4</th>\n",
              "      <td>2014-08-14</td>\n",
              "      <td>Bank account or service</td>\n",
              "      <td>Other bank product/service</td>\n",
              "      <td>Making/receiving payments, sending money</td>\n",
              "      <td>Sub isuue not listed</td>\n",
              "      <td>Complaint not listed</td>\n",
              "      <td>Company Public Response  not listed</td>\n",
              "      <td>JPMORGAN CHASE &amp; CO.</td>\n",
              "      <td>CA</td>\n",
              "      <td>90076</td>\n",
              "      <td>...</td>\n",
              "      <td>data not listed</td>\n",
              "      <td>Phone</td>\n",
              "      <td>2014-08-18</td>\n",
              "      <td>Closed with explanation</td>\n",
              "      <td>Yes</td>\n",
              "      <td>No</td>\n",
              "      <td>985462</td>\n",
              "      <td>2014</td>\n",
              "      <td>August</td>\n",
              "      <td>Thursday</td>\n",
              "    </tr>\n",
              "  </tbody>\n",
              "</table>\n",
              "<p>5 rows × 21 columns</p>\n",
              "</div>\n",
              "    <div class=\"colab-df-buttons\">\n",
              "\n",
              "  <div class=\"colab-df-container\">\n",
              "    <button class=\"colab-df-convert\" onclick=\"convertToInteractive('df-8e20be63-a161-4b5b-ad13-2e058dd04bee')\"\n",
              "            title=\"Convert this dataframe to an interactive table.\"\n",
              "            style=\"display:none;\">\n",
              "\n",
              "  <svg xmlns=\"http://www.w3.org/2000/svg\" height=\"24px\" viewBox=\"0 -960 960 960\">\n",
              "    <path d=\"M120-120v-720h720v720H120Zm60-500h600v-160H180v160Zm220 220h160v-160H400v160Zm0 220h160v-160H400v160ZM180-400h160v-160H180v160Zm440 0h160v-160H620v160ZM180-180h160v-160H180v160Zm440 0h160v-160H620v160Z\"/>\n",
              "  </svg>\n",
              "    </button>\n",
              "\n",
              "  <style>\n",
              "    .colab-df-container {\n",
              "      display:flex;\n",
              "      gap: 12px;\n",
              "    }\n",
              "\n",
              "    .colab-df-convert {\n",
              "      background-color: #E8F0FE;\n",
              "      border: none;\n",
              "      border-radius: 50%;\n",
              "      cursor: pointer;\n",
              "      display: none;\n",
              "      fill: #1967D2;\n",
              "      height: 32px;\n",
              "      padding: 0 0 0 0;\n",
              "      width: 32px;\n",
              "    }\n",
              "\n",
              "    .colab-df-convert:hover {\n",
              "      background-color: #E2EBFA;\n",
              "      box-shadow: 0px 1px 2px rgba(60, 64, 67, 0.3), 0px 1px 3px 1px rgba(60, 64, 67, 0.15);\n",
              "      fill: #174EA6;\n",
              "    }\n",
              "\n",
              "    .colab-df-buttons div {\n",
              "      margin-bottom: 4px;\n",
              "    }\n",
              "\n",
              "    [theme=dark] .colab-df-convert {\n",
              "      background-color: #3B4455;\n",
              "      fill: #D2E3FC;\n",
              "    }\n",
              "\n",
              "    [theme=dark] .colab-df-convert:hover {\n",
              "      background-color: #434B5C;\n",
              "      box-shadow: 0px 1px 3px 1px rgba(0, 0, 0, 0.15);\n",
              "      filter: drop-shadow(0px 1px 2px rgba(0, 0, 0, 0.3));\n",
              "      fill: #FFFFFF;\n",
              "    }\n",
              "  </style>\n",
              "\n",
              "    <script>\n",
              "      const buttonEl =\n",
              "        document.querySelector('#df-8e20be63-a161-4b5b-ad13-2e058dd04bee button.colab-df-convert');\n",
              "      buttonEl.style.display =\n",
              "        google.colab.kernel.accessAllowed ? 'block' : 'none';\n",
              "\n",
              "      async function convertToInteractive(key) {\n",
              "        const element = document.querySelector('#df-8e20be63-a161-4b5b-ad13-2e058dd04bee');\n",
              "        const dataTable =\n",
              "          await google.colab.kernel.invokeFunction('convertToInteractive',\n",
              "                                                    [key], {});\n",
              "        if (!dataTable) return;\n",
              "\n",
              "        const docLinkHtml = 'Like what you see? Visit the ' +\n",
              "          '<a target=\"_blank\" href=https://colab.research.google.com/notebooks/data_table.ipynb>data table notebook</a>'\n",
              "          + ' to learn more about interactive tables.';\n",
              "        element.innerHTML = '';\n",
              "        dataTable['output_type'] = 'display_data';\n",
              "        await google.colab.output.renderOutput(dataTable, element);\n",
              "        const docLink = document.createElement('div');\n",
              "        docLink.innerHTML = docLinkHtml;\n",
              "        element.appendChild(docLink);\n",
              "      }\n",
              "    </script>\n",
              "  </div>\n",
              "\n",
              "\n",
              "<div id=\"df-a1ef7253-8714-42b9-ae9a-d7b90191ca22\">\n",
              "  <button class=\"colab-df-quickchart\" onclick=\"quickchart('df-a1ef7253-8714-42b9-ae9a-d7b90191ca22')\"\n",
              "            title=\"Suggest charts\"\n",
              "            style=\"display:none;\">\n",
              "\n",
              "<svg xmlns=\"http://www.w3.org/2000/svg\" height=\"24px\"viewBox=\"0 0 24 24\"\n",
              "     width=\"24px\">\n",
              "    <g>\n",
              "        <path d=\"M19 3H5c-1.1 0-2 .9-2 2v14c0 1.1.9 2 2 2h14c1.1 0 2-.9 2-2V5c0-1.1-.9-2-2-2zM9 17H7v-7h2v7zm4 0h-2V7h2v10zm4 0h-2v-4h2v4z\"/>\n",
              "    </g>\n",
              "</svg>\n",
              "  </button>\n",
              "\n",
              "<style>\n",
              "  .colab-df-quickchart {\n",
              "      --bg-color: #E8F0FE;\n",
              "      --fill-color: #1967D2;\n",
              "      --hover-bg-color: #E2EBFA;\n",
              "      --hover-fill-color: #174EA6;\n",
              "      --disabled-fill-color: #AAA;\n",
              "      --disabled-bg-color: #DDD;\n",
              "  }\n",
              "\n",
              "  [theme=dark] .colab-df-quickchart {\n",
              "      --bg-color: #3B4455;\n",
              "      --fill-color: #D2E3FC;\n",
              "      --hover-bg-color: #434B5C;\n",
              "      --hover-fill-color: #FFFFFF;\n",
              "      --disabled-bg-color: #3B4455;\n",
              "      --disabled-fill-color: #666;\n",
              "  }\n",
              "\n",
              "  .colab-df-quickchart {\n",
              "    background-color: var(--bg-color);\n",
              "    border: none;\n",
              "    border-radius: 50%;\n",
              "    cursor: pointer;\n",
              "    display: none;\n",
              "    fill: var(--fill-color);\n",
              "    height: 32px;\n",
              "    padding: 0;\n",
              "    width: 32px;\n",
              "  }\n",
              "\n",
              "  .colab-df-quickchart:hover {\n",
              "    background-color: var(--hover-bg-color);\n",
              "    box-shadow: 0 1px 2px rgba(60, 64, 67, 0.3), 0 1px 3px 1px rgba(60, 64, 67, 0.15);\n",
              "    fill: var(--button-hover-fill-color);\n",
              "  }\n",
              "\n",
              "  .colab-df-quickchart-complete:disabled,\n",
              "  .colab-df-quickchart-complete:disabled:hover {\n",
              "    background-color: var(--disabled-bg-color);\n",
              "    fill: var(--disabled-fill-color);\n",
              "    box-shadow: none;\n",
              "  }\n",
              "\n",
              "  .colab-df-spinner {\n",
              "    border: 2px solid var(--fill-color);\n",
              "    border-color: transparent;\n",
              "    border-bottom-color: var(--fill-color);\n",
              "    animation:\n",
              "      spin 1s steps(1) infinite;\n",
              "  }\n",
              "\n",
              "  @keyframes spin {\n",
              "    0% {\n",
              "      border-color: transparent;\n",
              "      border-bottom-color: var(--fill-color);\n",
              "      border-left-color: var(--fill-color);\n",
              "    }\n",
              "    20% {\n",
              "      border-color: transparent;\n",
              "      border-left-color: var(--fill-color);\n",
              "      border-top-color: var(--fill-color);\n",
              "    }\n",
              "    30% {\n",
              "      border-color: transparent;\n",
              "      border-left-color: var(--fill-color);\n",
              "      border-top-color: var(--fill-color);\n",
              "      border-right-color: var(--fill-color);\n",
              "    }\n",
              "    40% {\n",
              "      border-color: transparent;\n",
              "      border-right-color: var(--fill-color);\n",
              "      border-top-color: var(--fill-color);\n",
              "    }\n",
              "    60% {\n",
              "      border-color: transparent;\n",
              "      border-right-color: var(--fill-color);\n",
              "    }\n",
              "    80% {\n",
              "      border-color: transparent;\n",
              "      border-right-color: var(--fill-color);\n",
              "      border-bottom-color: var(--fill-color);\n",
              "    }\n",
              "    90% {\n",
              "      border-color: transparent;\n",
              "      border-bottom-color: var(--fill-color);\n",
              "    }\n",
              "  }\n",
              "</style>\n",
              "\n",
              "  <script>\n",
              "    async function quickchart(key) {\n",
              "      const quickchartButtonEl =\n",
              "        document.querySelector('#' + key + ' button');\n",
              "      quickchartButtonEl.disabled = true;  // To prevent multiple clicks.\n",
              "      quickchartButtonEl.classList.add('colab-df-spinner');\n",
              "      try {\n",
              "        const charts = await google.colab.kernel.invokeFunction(\n",
              "            'suggestCharts', [key], {});\n",
              "      } catch (error) {\n",
              "        console.error('Error during call to suggestCharts:', error);\n",
              "      }\n",
              "      quickchartButtonEl.classList.remove('colab-df-spinner');\n",
              "      quickchartButtonEl.classList.add('colab-df-quickchart-complete');\n",
              "    }\n",
              "    (() => {\n",
              "      let quickchartButtonEl =\n",
              "        document.querySelector('#df-a1ef7253-8714-42b9-ae9a-d7b90191ca22 button');\n",
              "      quickchartButtonEl.style.display =\n",
              "        google.colab.kernel.accessAllowed ? 'block' : 'none';\n",
              "    })();\n",
              "  </script>\n",
              "</div>\n",
              "\n",
              "    </div>\n",
              "  </div>\n"
            ],
            "text/plain": [
              "  Date Received                  Product                 Sub-Product  \\\n",
              "0    2016-12-29         Credit reporting      Sub Product not listed   \n",
              "1    2015-07-10             Student loan    Non-federal student loan   \n",
              "2    2017-02-14          Debt collection                 Payday loan   \n",
              "3    2015-12-14         Credit reporting      Sub Product not listed   \n",
              "4    2014-08-14  Bank account or service  Other bank product/service   \n",
              "\n",
              "                                      Issue  \\\n",
              "0  Credit reporting company's investigation   \n",
              "1        Dealing with my lender or servicer   \n",
              "2                     Communication tactics   \n",
              "3    Incorrect information on credit report   \n",
              "4  Making/receiving payments, sending money   \n",
              "\n",
              "                                  Sub-Issue  \\\n",
              "0  No notice of investigation status/result   \n",
              "1     Trouble with how payments are handled   \n",
              "2                Frequent or repeated calls   \n",
              "3                   Information is not mine   \n",
              "4                      Sub isuue not listed   \n",
              "\n",
              "                        Consumer Complaint Narrative  \\\n",
              "0  I disputed information on my Chexsystems repor...   \n",
              "1  I have being paying my student loan ( {$500.00...   \n",
              "2  Between XXXX and XXXX on XX/XX/2017 I have rec...   \n",
              "3                               Complaint not listed   \n",
              "4                               Complaint not listed   \n",
              "\n",
              "                            Company Public Response  \\\n",
              "0               Company Public Response  not listed   \n",
              "1               Company Public Response  not listed   \n",
              "2               Company Public Response  not listed   \n",
              "3  Company chooses not to provide a public response   \n",
              "4               Company Public Response  not listed   \n",
              "\n",
              "                                             Company State Zip Code  ...  \\\n",
              "0  Fidelity National Information Services, Inc. (...    KY    42301  ...   \n",
              "1                      HEARTLAND PAYMENT SYSTEMS INC    IL    60659  ...   \n",
              "2                   ONEMAIN FINANCIAL HOLDINGS, LLC.    NJ    080XX  ...   \n",
              "3                Experian Information Solutions Inc.    CA    90020  ...   \n",
              "4                               JPMORGAN CHASE & CO.    CA    90076  ...   \n",
              "\n",
              "  Consumer Consent Provided? Submitted Via Date Sent To Company  \\\n",
              "0           Consent provided           Web           2016-12-29   \n",
              "1           Consent provided           Web           2015-07-21   \n",
              "2           Consent provided           Web           2017-02-14   \n",
              "3            data not listed         Phone           2015-12-16   \n",
              "4            data not listed         Phone           2014-08-18   \n",
              "\n",
              "  Company Response To Consumer Timely Response? Consumer Disputed?  \\\n",
              "0      Closed with explanation              Yes                Yes   \n",
              "1      Closed with explanation              Yes                 No   \n",
              "2      Closed with explanation              Yes                 No   \n",
              "3      Closed with explanation              Yes                 No   \n",
              "4      Closed with explanation              Yes                 No   \n",
              "\n",
              "  Complaint Id  Year     Month Week_Days  \n",
              "0      2268968  2016  December  Thursday  \n",
              "1      1461598  2015      July    Friday  \n",
              "2      2343333  2017  February   Tuesday  \n",
              "3      1695201  2015  December    Monday  \n",
              "4       985462  2014    August  Thursday  \n",
              "\n",
              "[5 rows x 21 columns]"
            ]
          },
          "execution_count": 3,
          "metadata": {},
          "output_type": "execute_result"
        }
      ],
      "source": [
        "consumer_complaint_cleaned.head()\n"
      ]
    },
    {
      "cell_type": "markdown",
      "metadata": {
        "id": "wRwwM-LBGRti"
      },
      "source": [
        "# Feature Engineering"
      ]
    },
    {
      "cell_type": "code",
      "execution_count": 4,
      "metadata": {
        "id": "R64KTu_WHm6c"
      },
      "outputs": [],
      "source": [
        "# No required of Date type features for classification\n",
        "consumer_complaint_cleaned= consumer_complaint_cleaned.drop(['Date Received','Date Sent To Company','Year','Month','Week_Days'], axis=1)"
      ]
    },
    {
      "cell_type": "markdown",
      "metadata": {
        "id": "2k9si5hCHHxP"
      },
      "source": [
        "## Type of Features"
      ]
    },
    {
      "cell_type": "code",
      "execution_count": 5,
      "metadata": {
        "colab": {
          "base_uri": "https://localhost:8080/"
        },
        "id": "qZL_QA5ifDRD",
        "outputId": "c540f7f2-c825-4fd0-a7fb-9adb524a8ec4"
      },
      "outputs": [
        {
          "name": "stdout",
          "output_type": "stream",
          "text": [
            "Num of Numerical Features : 1\n",
            "Column name is ['Complaint Id']\n"
          ]
        }
      ],
      "source": [
        "# Numerical Features\n",
        "num_features = [feature for feature in consumer_complaint_cleaned.columns if consumer_complaint_cleaned[feature].dtype != 'O']\n",
        "print('Num of Numerical Features :', len(num_features))\n",
        "print(f'Column name is {num_features}')\n"
      ]
    },
    {
      "cell_type": "code",
      "execution_count": 6,
      "metadata": {
        "id": "jd1WNTEIJa_T"
      },
      "outputs": [],
      "source": [
        "# 'Complaint Id'  it is a column of unique id of every customer it cannot help us in Classification\n",
        "consumer_complaint_cleaned= consumer_complaint_cleaned.drop(['Complaint Id'], axis=1)"
      ]
    },
    {
      "cell_type": "code",
      "execution_count": 7,
      "metadata": {
        "id": "GSU2IiRUK4FO"
      },
      "outputs": [],
      "source": [
        "# 'Zip Code' it cannot help us in Classification\n",
        "consumer_complaint_cleaned = consumer_complaint_cleaned.drop(['Zip Code'], axis=1)"
      ]
    },
    {
      "cell_type": "code",
      "execution_count": 8,
      "metadata": {
        "colab": {
          "base_uri": "https://localhost:8080/"
        },
        "id": "1KuU0awOfDTs",
        "outputId": "01a8cf9c-4292-4d1c-acfe-11444e95a5f6"
      },
      "outputs": [
        {
          "name": "stdout",
          "output_type": "stream",
          "text": [
            "Num of Categorical Features : 14\n",
            "Column names are ['Product', 'Sub-Product', 'Issue', 'Sub-Issue', 'Consumer Complaint Narrative', 'Company Public Response', 'Company', 'State', 'Tags', 'Consumer Consent Provided?', 'Submitted Via', 'Company Response To Consumer', 'Timely Response?', 'Consumer Disputed?']\n"
          ]
        }
      ],
      "source": [
        "# Categorical Features\n",
        "cat_features = [feature for feature in consumer_complaint_cleaned.columns if consumer_complaint_cleaned[feature].dtype == 'O']\n",
        "print('Num of Categorical Features :', len(cat_features))\n",
        "print(f'Column names are {cat_features}')"
      ]
    },
    {
      "cell_type": "code",
      "execution_count": 9,
      "metadata": {
        "colab": {
          "base_uri": "https://localhost:8080/"
        },
        "id": "tw6xS48H_IT6",
        "outputId": "c33f6c98-40e5-4c96-b73f-2e86af457d53"
      },
      "outputs": [
        {
          "data": {
            "text/plain": [
              "(768316, 14)"
            ]
          },
          "execution_count": 9,
          "metadata": {},
          "output_type": "execute_result"
        }
      ],
      "source": [
        "consumer_complaint_cleaned.shape"
      ]
    },
    {
      "cell_type": "code",
      "execution_count": 10,
      "metadata": {
        "id": "NhwEEnA8Td8s"
      },
      "outputs": [],
      "source": [
        "# Randomly sample 50000 rows\n",
        "sampled_consumer_complaint_cleaned = consumer_complaint_cleaned.sample(n=50000)"
      ]
    },
    {
      "cell_type": "markdown",
      "metadata": {
        "id": "lywqM4gWJ_-w"
      },
      "source": [
        "##  Split X and Y\n",
        "\n",
        "\n",
        "\n",
        "*   Split Dataframe to X and y\n",
        "*  Here we set a variable X i.e, independent columns, and a variable y i.e, dependent column as the 'Consumer Disputed?' column.\n",
        "\n",
        "\n",
        "\n"
      ]
    },
    {
      "cell_type": "code",
      "execution_count": 11,
      "metadata": {
        "id": "zuauXaoUNYMP"
      },
      "outputs": [],
      "source": [
        "X = sampled_consumer_complaint_cleaned.drop('Consumer Disputed?', axis=1)\n",
        "y = sampled_consumer_complaint_cleaned['Consumer Disputed?']"
      ]
    },
    {
      "cell_type": "code",
      "execution_count": 12,
      "metadata": {
        "colab": {
          "base_uri": "https://localhost:8080/"
        },
        "id": "2UyKAHBmNlMm",
        "outputId": "a421926e-fce9-427e-8203-4c473d721aed"
      },
      "outputs": [
        {
          "data": {
            "text/plain": [
              "Consumer Disputed?\n",
              "No     40465\n",
              "Yes     9535\n",
              "Name: count, dtype: int64"
            ]
          },
          "execution_count": 12,
          "metadata": {},
          "output_type": "execute_result"
        }
      ],
      "source": [
        "y.value_counts()"
      ]
    },
    {
      "cell_type": "markdown",
      "metadata": {
        "id": "8-wCPlwVO9ok"
      },
      "source": [
        "## Feature Encoding and Scaling and Target column Encoding"
      ]
    },
    {
      "cell_type": "code",
      "execution_count": 13,
      "metadata": {
        "id": "9-olqMEbNy1i"
      },
      "outputs": [],
      "source": [
        "# Importing Necessary Modules\n",
        "import joblib\n",
        "import numpy as np\n",
        "import pandas as pd\n",
        "from scipy.sparse import  load_npz\n",
        "from scipy.sparse import hstack, save_npz, csr_matrix\n",
        "from sklearn.compose import ColumnTransformer\n",
        "from sklearn.feature_extraction.text import TfidfVectorizer\n",
        "from sklearn.preprocessing import OneHotEncoder, LabelBinarizer"
      ]
    },
    {
      "cell_type": "code",
      "execution_count": 14,
      "metadata": {
        "colab": {
          "base_uri": "https://localhost:8080/"
        },
        "id": "_wwVjoq-fDoR",
        "outputId": "ee56259b-c052-4e3e-ec6d-63b60108d5c7"
      },
      "outputs": [
        {
          "name": "stdout",
          "output_type": "stream",
          "text": [
            "(50000, 1)\n"
          ]
        }
      ],
      "source": [
        "# encoding Target Columns\n",
        "lb = LabelBinarizer()\n",
        "y = lb.fit_transform(y)\n",
        "print(y.shape)"
      ]
    },
    {
      "cell_type": "code",
      "execution_count": 15,
      "metadata": {
        "id": "92JqwD6sNyyS"
      },
      "outputs": [],
      "source": [
        "# Assign Columns for one hot encoding and for vectorisation\n",
        "ohe_columns = ['Product', 'Sub-Product', 'Issue', 'Sub-Issue', 'Company Public Response', 'State', 'Tags', 'Consumer Consent Provided?', 'Submitted Via', 'Timely Response?', 'Company Response To Consumer']\n",
        "string_columns = ['Consumer Complaint Narrative', 'Company']"
      ]
    },
    {
      "cell_type": "code",
      "execution_count": 16,
      "metadata": {
        "colab": {
          "base_uri": "https://localhost:8080/"
        },
        "id": "_p6JgAhYPiUG",
        "outputId": "b35fba6f-0378-473f-a84c-f9cd63d28c38"
      },
      "outputs": [
        {
          "name": "stdout",
          "output_type": "stream",
          "text": [
            "(50000, 22406) <class 'scipy.sparse._csr.csr_matrix'>\n"
          ]
        }
      ],
      "source": [
        "# Define the transformers\n",
        "preprocessor = ColumnTransformer(\n",
        "    transformers=[\n",
        "        ('ohe', OneHotEncoder(handle_unknown='ignore'), ohe_columns),\n",
        "        ('tfidf', TfidfVectorizer(), 'Consumer Complaint Narrative'),\n",
        "        ('company_tfidf', TfidfVectorizer(), 'Company')\n",
        "    ], n_jobs=-1)\n",
        "\n",
        "\n",
        "# Fit and transform the data\n",
        "X = preprocessor.fit_transform(X) # 35 sec\n",
        "print(X.shape, type(X))"
      ]
    },
    {
      "cell_type": "markdown",
      "metadata": {
        "id": "EdFY2izwvz6v"
      },
      "source": [
        "## Classification"
      ]
    },
    {
      "cell_type": "code",
      "execution_count": 17,
      "metadata": {
        "id": "act98TEOPib3"
      },
      "outputs": [],
      "source": [
        "from sklearn.model_selection import train_test_split\n",
        "from sklearn.ensemble import RandomForestClassifier, AdaBoostClassifier, GradientBoostingClassifier\n",
        "from sklearn.linear_model import LogisticRegression\n",
        "from sklearn.neighbors import KNeighborsClassifier\n",
        "from sklearn.tree import DecisionTreeClassifier\n",
        "from sklearn.svm import SVC\n",
        "from sklearn.metrics import accuracy_score, precision_score, recall_score, f1_score, roc_auc_score\n",
        "from xgboost import XGBClassifier\n",
        "import tensorflow as tf\n",
        "import numpy as np\n",
        "import pandas as pd\n"
      ]
    },
    {
      "cell_type": "code",
      "execution_count": 18,
      "metadata": {
        "id": "4v1Tn5KGPieN"
      },
      "outputs": [],
      "source": [
        "# Define evaluation function\n",
        "def evaluate_clf(y_true, y_pred):\n",
        "    accuracy = accuracy_score(y_true, y_pred)\n",
        "    f1 = f1_score(y_true, y_pred)\n",
        "    precision = precision_score(y_true, y_pred)\n",
        "    recall = recall_score(y_true, y_pred)\n",
        "    roc_auc = roc_auc_score(y_true, y_pred)\n",
        "    return accuracy, f1, precision, recall, roc_auc\n"
      ]
    },
    {
      "cell_type": "code",
      "execution_count": 19,
      "metadata": {
        "id": "gk2ogUpPPigW"
      },
      "outputs": [],
      "source": [
        "models = {\n",
        "    \"Logistic Regression\": LogisticRegression(),\n",
        "    \"Random Forest\": RandomForestClassifier(),\n",
        "    \"Decision Tree\": DecisionTreeClassifier(),\n",
        "    \"Gradient Boosting\": GradientBoostingClassifier(),\n",
        "    \"XGBClassifier\": XGBClassifier(),\n",
        "    \"Support Vector Classifier\": SVC(),\n",
        "    \"AdaBoost Classifier\": AdaBoostClassifier()\n",
        "}\n"
      ]
    },
    {
      "cell_type": "code",
      "execution_count": 20,
      "metadata": {
        "id": "07UvMnA6PijN"
      },
      "outputs": [],
      "source": [
        "def build_neural_network(input_shape):\n",
        "    model = tf.keras.Sequential([\n",
        "        tf.keras.layers.InputLayer(input_shape=input_shape),\n",
        "        tf.keras.layers.Dense(128, activation='relu'),\n",
        "        tf.keras.layers.Dropout(0.2),\n",
        "        tf.keras.layers.Dense(64, activation='relu'),\n",
        "        tf.keras.layers.Dropout(0.2),\n",
        "        tf.keras.layers.Dense(32, activation='relu'),\n",
        "        tf.keras.layers.Dropout(0.1),\n",
        "        tf.keras.layers.Dense(1, activation='sigmoid')\n",
        "    ])\n",
        "    model.compile(optimizer='adam', loss='binary_crossentropy', metrics=['accuracy'])\n",
        "    return model\n"
      ]
    },
    {
      "cell_type": "code",
      "execution_count": 21,
      "metadata": {
        "id": "yrYg-gZJN2_S"
      },
      "outputs": [],
      "source": [
        "# Split the dataset into train and test sets\n",
        "X_train, X_test, y_train, y_test = train_test_split(X, y, test_size=0.2, random_state=42)"
      ]
    },
    {
      "cell_type": "code",
      "execution_count": 22,
      "metadata": {
        "id": "7KwRdbrxPilg"
      },
      "outputs": [],
      "source": [
        "def evaluate_models(X, y, models, batch_size=512, epochs=5):\n",
        "    # Split the dataset into train and test sets\n",
        "    X_train, X_test, y_train, y_test = train_test_split(X, y, test_size=0.2, random_state=42)\n",
        "\n",
        "    models_list = []\n",
        "    accuracy_list = []\n",
        "    auc = []\n",
        "\n",
        "    for name, model in models.items():\n",
        "        model.fit(X_train, y_train)  # Train the model\n",
        "\n",
        "        # Make predictions\n",
        "        y_train_pred = model.predict(X_train)\n",
        "        y_test_pred = model.predict(X_test)\n",
        "\n",
        "        # Training set performance\n",
        "        model_train_accuracy, model_train_f1, model_train_precision, \\\n",
        "        model_train_recall, model_train_rocauc_score = evaluate_clf(y_train, y_train_pred)\n",
        "\n",
        "        # Test set performance\n",
        "        model_test_accuracy, model_test_f1, model_test_precision, \\\n",
        "        model_test_recall, model_test_rocauc_score = evaluate_clf(y_test, y_test_pred)\n",
        "\n",
        "        print(name)\n",
        "        models_list.append(name)\n",
        "\n",
        "        print('Model performance for Training set')\n",
        "        print(f\"- Accuracy: {model_train_accuracy:.4f}\")\n",
        "        print(f'- F1 score: {model_train_f1:.4f}')\n",
        "        print(f'- Precision: {model_train_precision:.4f}')\n",
        "        print(f'- Recall: {model_train_recall:.4f}')\n",
        "        print(f'- Roc Auc Score: {model_train_rocauc_score:.4f}')\n",
        "        print('----------------------------------')\n",
        "        print('Model performance for Test set')\n",
        "        print(f'- Accuracy: {model_test_accuracy:.4f}')\n",
        "        accuracy_list.append(model_test_accuracy)\n",
        "        print(f'- F1 score: {model_test_f1:.4f}')\n",
        "        print(f'- Precision: {model_test_precision:.4f}')\n",
        "        print(f'- Recall: {model_test_recall:.4f}')\n",
        "        print(f'- Roc Auc Score: {model_test_rocauc_score:.4f}')\n",
        "        auc.append(model_test_rocauc_score)\n",
        "        print('=' * 35)\n",
        "        print('\\n')\n",
        "\n",
        "    # Neural Network\n",
        "    neural_net_model = build_neural_network(input_shape=(X_train.shape[1],))\n",
        "    history = neural_net_model.fit(\n",
        "        X_train, y_train, epochs=epochs,\n",
        "        validation_data=(X_test, y_test), batch_size=batch_size, verbose=1\n",
        "    )\n",
        "\n",
        "    y_test_pred_nn = (neural_net_model.predict(X_test) > 0.5).astype(\"int32\")\n",
        "    model_test_accuracy, model_test_f1, model_test_precision, \\\n",
        "    model_test_recall, model_test_rocauc_score = evaluate_clf(y_test, y_test_pred_nn)\n",
        "\n",
        "    print(\"Neural Network\")\n",
        "    models_list.append(\"Neural Network\")\n",
        "\n",
        "    print('Model performance for Test set')\n",
        "    print(f'- Accuracy: {model_test_accuracy:.4f}')\n",
        "    accuracy_list.append(model_test_accuracy)\n",
        "    print(f'- F1 score: {model_test_f1:.4f}')\n",
        "    print(f'- Precision: {model_test_precision:.4f}')\n",
        "    print(f'- Recall: {model_test_recall:.4f}')\n",
        "    print(f'- Roc Auc Score: {model_test_rocauc_score:.4f}')\n",
        "    auc.append(model_test_rocauc_score)\n",
        "    print('=' * 35)\n",
        "    print('\\n')\n",
        "\n",
        "    report = pd.DataFrame(list(zip(models_list, accuracy_list, auc)), columns=['Model Name', 'Accuracy', 'ROC AUC']).sort_values(by=['Accuracy'], ascending=False)\n",
        "    return report"
      ]
    },
    {
      "cell_type": "code",
      "execution_count": 23,
      "metadata": {
        "colab": {
          "base_uri": "https://localhost:8080/"
        },
        "id": "H1R6g--85AuI",
        "outputId": "6d47786e-b35f-4d93-8109-b0ea36c3f7d4"
      },
      "outputs": [
        {
          "name": "stderr",
          "output_type": "stream",
          "text": [
            "/usr/local/lib/python3.10/dist-packages/sklearn/utils/validation.py:1143: DataConversionWarning: A column-vector y was passed when a 1d array was expected. Please change the shape of y to (n_samples, ), for example using ravel().\n",
            "  y = column_or_1d(y, warn=True)\n",
            "/usr/local/lib/python3.10/dist-packages/sklearn/linear_model/_logistic.py:458: ConvergenceWarning: lbfgs failed to converge (status=1):\n",
            "STOP: TOTAL NO. of ITERATIONS REACHED LIMIT.\n",
            "\n",
            "Increase the number of iterations (max_iter) or scale the data as shown in:\n",
            "    https://scikit-learn.org/stable/modules/preprocessing.html\n",
            "Please also refer to the documentation for alternative solver options:\n",
            "    https://scikit-learn.org/stable/modules/linear_model.html#logistic-regression\n",
            "  n_iter_i = _check_optimize_result(\n"
          ]
        },
        {
          "name": "stdout",
          "output_type": "stream",
          "text": [
            "Logistic Regression\n",
            "Model performance for Training set\n",
            "- Accuracy: 0.8125\n",
            "- F1 score: 0.0542\n",
            "- Precision: 0.7934\n",
            "- Recall: 0.0281\n",
            "- Roc Auc Score: 0.5132\n",
            "----------------------------------\n",
            "Model performance for Test set\n",
            "- Accuracy: 0.8116\n",
            "- F1 score: 0.0218\n",
            "- Precision: 0.4375\n",
            "- Recall: 0.0112\n",
            "- Roc Auc Score: 0.5039\n",
            "===================================\n",
            "\n",
            "\n"
          ]
        },
        {
          "name": "stderr",
          "output_type": "stream",
          "text": [
            "<ipython-input-22-e4c23ae4bf51>:10: DataConversionWarning: A column-vector y was passed when a 1d array was expected. Please change the shape of y to (n_samples,), for example using ravel().\n",
            "  model.fit(X_train, y_train)  # Train the model\n"
          ]
        },
        {
          "name": "stdout",
          "output_type": "stream",
          "text": [
            "Random Forest\n",
            "Model performance for Training set\n",
            "- Accuracy: 0.9697\n",
            "- F1 score: 0.9160\n",
            "- Precision: 0.9742\n",
            "- Recall: 0.8643\n",
            "- Roc Auc Score: 0.9294\n",
            "----------------------------------\n",
            "Model performance for Test set\n",
            "- Accuracy: 0.7987\n",
            "- F1 score: 0.0770\n",
            "- Precision: 0.2772\n",
            "- Recall: 0.0447\n",
            "- Roc Auc Score: 0.5089\n",
            "===================================\n",
            "\n",
            "\n",
            "Decision Tree\n",
            "Model performance for Training set\n",
            "- Accuracy: 0.9697\n",
            "- F1 score: 0.9149\n",
            "- Precision: 0.9894\n",
            "- Recall: 0.8509\n",
            "- Roc Auc Score: 0.9243\n",
            "----------------------------------\n",
            "Model performance for Test set\n",
            "- Accuracy: 0.7285\n",
            "- F1 score: 0.2031\n",
            "- Precision: 0.2263\n",
            "- Recall: 0.1842\n",
            "- Roc Auc Score: 0.5193\n",
            "===================================\n",
            "\n",
            "\n"
          ]
        },
        {
          "name": "stderr",
          "output_type": "stream",
          "text": [
            "/usr/local/lib/python3.10/dist-packages/sklearn/ensemble/_gb.py:437: DataConversionWarning: A column-vector y was passed when a 1d array was expected. Please change the shape of y to (n_samples, ), for example using ravel().\n",
            "  y = column_or_1d(y, warn=True)\n"
          ]
        },
        {
          "name": "stdout",
          "output_type": "stream",
          "text": [
            "Gradient Boosting\n",
            "Model performance for Training set\n",
            "- Accuracy: 0.8104\n",
            "- F1 score: 0.0189\n",
            "- Precision: 1.0000\n",
            "- Recall: 0.0095\n",
            "- Roc Auc Score: 0.5048\n",
            "----------------------------------\n",
            "Model performance for Test set\n",
            "- Accuracy: 0.8122\n",
            "- F1 score: 0.0063\n",
            "- Precision: 0.5000\n",
            "- Recall: 0.0032\n",
            "- Roc Auc Score: 0.5012\n",
            "===================================\n",
            "\n",
            "\n",
            "XGBClassifier\n",
            "Model performance for Training set\n",
            "- Accuracy: 0.8374\n",
            "- F1 score: 0.2617\n",
            "- Precision: 0.9991\n",
            "- Recall: 0.1506\n",
            "- Roc Auc Score: 0.5753\n",
            "----------------------------------\n",
            "Model performance for Test set\n",
            "- Accuracy: 0.8070\n",
            "- F1 score: 0.0282\n",
            "- Precision: 0.2593\n",
            "- Recall: 0.0149\n",
            "- Roc Auc Score: 0.5025\n",
            "===================================\n",
            "\n",
            "\n"
          ]
        },
        {
          "name": "stderr",
          "output_type": "stream",
          "text": [
            "/usr/local/lib/python3.10/dist-packages/sklearn/utils/validation.py:1143: DataConversionWarning: A column-vector y was passed when a 1d array was expected. Please change the shape of y to (n_samples, ), for example using ravel().\n",
            "  y = column_or_1d(y, warn=True)\n",
            "/usr/local/lib/python3.10/dist-packages/sklearn/metrics/_classification.py:1344: UndefinedMetricWarning: Precision is ill-defined and being set to 0.0 due to no predicted samples. Use `zero_division` parameter to control this behavior.\n",
            "  _warn_prf(average, modifier, msg_start, len(result))\n",
            "/usr/local/lib/python3.10/dist-packages/sklearn/utils/validation.py:1143: DataConversionWarning: A column-vector y was passed when a 1d array was expected. Please change the shape of y to (n_samples, ), for example using ravel().\n",
            "  y = column_or_1d(y, warn=True)\n"
          ]
        },
        {
          "name": "stdout",
          "output_type": "stream",
          "text": [
            "Support Vector Classifier\n",
            "Model performance for Training set\n",
            "- Accuracy: 0.8086\n",
            "- F1 score: 0.0005\n",
            "- Precision: 1.0000\n",
            "- Recall: 0.0003\n",
            "- Roc Auc Score: 0.5001\n",
            "----------------------------------\n",
            "Model performance for Test set\n",
            "- Accuracy: 0.8122\n",
            "- F1 score: 0.0000\n",
            "- Precision: 0.0000\n",
            "- Recall: 0.0000\n",
            "- Roc Auc Score: 0.5000\n",
            "===================================\n",
            "\n",
            "\n",
            "AdaBoost Classifier\n",
            "Model performance for Training set\n",
            "- Accuracy: 0.8095\n",
            "- F1 score: 0.0243\n",
            "- Precision: 0.6129\n",
            "- Recall: 0.0124\n",
            "- Roc Auc Score: 0.5053\n",
            "----------------------------------\n",
            "Model performance for Test set\n",
            "- Accuracy: 0.8105\n",
            "- F1 score: 0.0115\n",
            "- Precision: 0.2821\n",
            "- Recall: 0.0059\n",
            "- Roc Auc Score: 0.5012\n",
            "===================================\n",
            "\n",
            "\n",
            "Epoch 1/5\n",
            "79/79 [==============================] - 13s 95ms/step - loss: 0.5099 - accuracy: 0.8015 - val_loss: 0.4716 - val_accuracy: 0.8122\n",
            "Epoch 2/5\n",
            "79/79 [==============================] - 6s 79ms/step - loss: 0.4728 - accuracy: 0.8086 - val_loss: 0.4702 - val_accuracy: 0.8122\n",
            "Epoch 3/5\n",
            "79/79 [==============================] - 7s 81ms/step - loss: 0.4597 - accuracy: 0.8086 - val_loss: 0.4704 - val_accuracy: 0.8122\n",
            "Epoch 4/5\n",
            "79/79 [==============================] - 7s 87ms/step - loss: 0.4488 - accuracy: 0.8109 - val_loss: 0.4756 - val_accuracy: 0.8101\n",
            "Epoch 5/5\n",
            "79/79 [==============================] - 7s 88ms/step - loss: 0.4297 - accuracy: 0.8232 - val_loss: 0.4898 - val_accuracy: 0.8040\n",
            "313/313 [==============================] - 1s 2ms/step\n",
            "Neural Network\n",
            "Model performance for Test set\n",
            "- Accuracy: 0.8040\n",
            "- F1 score: 0.0789\n",
            "- Precision: 0.3360\n",
            "- Recall: 0.0447\n",
            "- Roc Auc Score: 0.5121\n",
            "===================================\n",
            "\n",
            "\n"
          ]
        }
      ],
      "source": [
        "base_model_report = evaluate_models(X, y, models)"
      ]
    },
    {
      "cell_type": "code",
      "execution_count": 24,
      "metadata": {
        "colab": {
          "base_uri": "https://localhost:8080/",
          "height": 300
        },
        "id": "mVQvhK025Aw4",
        "outputId": "961295d9-6827-4fac-cdf3-48543250c521"
      },
      "outputs": [
        {
          "data": {
            "application/vnd.google.colaboratory.intrinsic+json": {
              "summary": "{\n  \"name\": \"base_model_report\",\n  \"rows\": 8,\n  \"fields\": [\n    {\n      \"column\": \"Model Name\",\n      \"properties\": {\n        \"dtype\": \"string\",\n        \"num_unique_values\": 8,\n        \"samples\": [\n          \"Support Vector Classifier\",\n          \"Neural Network\",\n          \"Gradient Boosting\"\n        ],\n        \"semantic_type\": \"\",\n        \"description\": \"\"\n      }\n    },\n    {\n      \"column\": \"Accuracy\",\n      \"properties\": {\n        \"dtype\": \"number\",\n        \"std\": 0.0285160825550375,\n        \"min\": 0.7285,\n        \"max\": 0.8122,\n        \"num_unique_values\": 7,\n        \"samples\": [\n          0.8122,\n          0.8116,\n          0.7987\n        ],\n        \"semantic_type\": \"\",\n        \"description\": \"\"\n      }\n    },\n    {\n      \"column\": \"ROC AUC\",\n      \"properties\": {\n        \"dtype\": \"number\",\n        \"std\": 0.006768296789962829,\n        \"min\": 0.5,\n        \"max\": 0.5192923858967571,\n        \"num_unique_values\": 8,\n        \"samples\": [\n          0.5,\n          0.5121450594095003,\n          0.5012280769385088\n        ],\n        \"semantic_type\": \"\",\n        \"description\": \"\"\n      }\n    }\n  ]\n}",
              "type": "dataframe",
              "variable_name": "base_model_report"
            },
            "text/html": [
              "\n",
              "  <div id=\"df-5901d38a-91c6-4870-8ecc-62307f6855fe\" class=\"colab-df-container\">\n",
              "    <div>\n",
              "<style scoped>\n",
              "    .dataframe tbody tr th:only-of-type {\n",
              "        vertical-align: middle;\n",
              "    }\n",
              "\n",
              "    .dataframe tbody tr th {\n",
              "        vertical-align: top;\n",
              "    }\n",
              "\n",
              "    .dataframe thead th {\n",
              "        text-align: right;\n",
              "    }\n",
              "</style>\n",
              "<table border=\"1\" class=\"dataframe\">\n",
              "  <thead>\n",
              "    <tr style=\"text-align: right;\">\n",
              "      <th></th>\n",
              "      <th>Model Name</th>\n",
              "      <th>Accuracy</th>\n",
              "      <th>ROC AUC</th>\n",
              "    </tr>\n",
              "  </thead>\n",
              "  <tbody>\n",
              "    <tr>\n",
              "      <th>3</th>\n",
              "      <td>Gradient Boosting</td>\n",
              "      <td>0.8122</td>\n",
              "      <td>0.501228</td>\n",
              "    </tr>\n",
              "    <tr>\n",
              "      <th>5</th>\n",
              "      <td>Support Vector Classifier</td>\n",
              "      <td>0.8122</td>\n",
              "      <td>0.500000</td>\n",
              "    </tr>\n",
              "    <tr>\n",
              "      <th>0</th>\n",
              "      <td>Logistic Regression</td>\n",
              "      <td>0.8116</td>\n",
              "      <td>0.503929</td>\n",
              "    </tr>\n",
              "    <tr>\n",
              "      <th>6</th>\n",
              "      <td>AdaBoost Classifier</td>\n",
              "      <td>0.8105</td>\n",
              "      <td>0.501205</td>\n",
              "    </tr>\n",
              "    <tr>\n",
              "      <th>4</th>\n",
              "      <td>XGBClassifier</td>\n",
              "      <td>0.8070</td>\n",
              "      <td>0.502530</td>\n",
              "    </tr>\n",
              "    <tr>\n",
              "      <th>7</th>\n",
              "      <td>Neural Network</td>\n",
              "      <td>0.8040</td>\n",
              "      <td>0.512145</td>\n",
              "    </tr>\n",
              "    <tr>\n",
              "      <th>1</th>\n",
              "      <td>Random Forest</td>\n",
              "      <td>0.7987</td>\n",
              "      <td>0.508882</td>\n",
              "    </tr>\n",
              "    <tr>\n",
              "      <th>2</th>\n",
              "      <td>Decision Tree</td>\n",
              "      <td>0.7285</td>\n",
              "      <td>0.519292</td>\n",
              "    </tr>\n",
              "  </tbody>\n",
              "</table>\n",
              "</div>\n",
              "    <div class=\"colab-df-buttons\">\n",
              "\n",
              "  <div class=\"colab-df-container\">\n",
              "    <button class=\"colab-df-convert\" onclick=\"convertToInteractive('df-5901d38a-91c6-4870-8ecc-62307f6855fe')\"\n",
              "            title=\"Convert this dataframe to an interactive table.\"\n",
              "            style=\"display:none;\">\n",
              "\n",
              "  <svg xmlns=\"http://www.w3.org/2000/svg\" height=\"24px\" viewBox=\"0 -960 960 960\">\n",
              "    <path d=\"M120-120v-720h720v720H120Zm60-500h600v-160H180v160Zm220 220h160v-160H400v160Zm0 220h160v-160H400v160ZM180-400h160v-160H180v160Zm440 0h160v-160H620v160ZM180-180h160v-160H180v160Zm440 0h160v-160H620v160Z\"/>\n",
              "  </svg>\n",
              "    </button>\n",
              "\n",
              "  <style>\n",
              "    .colab-df-container {\n",
              "      display:flex;\n",
              "      gap: 12px;\n",
              "    }\n",
              "\n",
              "    .colab-df-convert {\n",
              "      background-color: #E8F0FE;\n",
              "      border: none;\n",
              "      border-radius: 50%;\n",
              "      cursor: pointer;\n",
              "      display: none;\n",
              "      fill: #1967D2;\n",
              "      height: 32px;\n",
              "      padding: 0 0 0 0;\n",
              "      width: 32px;\n",
              "    }\n",
              "\n",
              "    .colab-df-convert:hover {\n",
              "      background-color: #E2EBFA;\n",
              "      box-shadow: 0px 1px 2px rgba(60, 64, 67, 0.3), 0px 1px 3px 1px rgba(60, 64, 67, 0.15);\n",
              "      fill: #174EA6;\n",
              "    }\n",
              "\n",
              "    .colab-df-buttons div {\n",
              "      margin-bottom: 4px;\n",
              "    }\n",
              "\n",
              "    [theme=dark] .colab-df-convert {\n",
              "      background-color: #3B4455;\n",
              "      fill: #D2E3FC;\n",
              "    }\n",
              "\n",
              "    [theme=dark] .colab-df-convert:hover {\n",
              "      background-color: #434B5C;\n",
              "      box-shadow: 0px 1px 3px 1px rgba(0, 0, 0, 0.15);\n",
              "      filter: drop-shadow(0px 1px 2px rgba(0, 0, 0, 0.3));\n",
              "      fill: #FFFFFF;\n",
              "    }\n",
              "  </style>\n",
              "\n",
              "    <script>\n",
              "      const buttonEl =\n",
              "        document.querySelector('#df-5901d38a-91c6-4870-8ecc-62307f6855fe button.colab-df-convert');\n",
              "      buttonEl.style.display =\n",
              "        google.colab.kernel.accessAllowed ? 'block' : 'none';\n",
              "\n",
              "      async function convertToInteractive(key) {\n",
              "        const element = document.querySelector('#df-5901d38a-91c6-4870-8ecc-62307f6855fe');\n",
              "        const dataTable =\n",
              "          await google.colab.kernel.invokeFunction('convertToInteractive',\n",
              "                                                    [key], {});\n",
              "        if (!dataTable) return;\n",
              "\n",
              "        const docLinkHtml = 'Like what you see? Visit the ' +\n",
              "          '<a target=\"_blank\" href=https://colab.research.google.com/notebooks/data_table.ipynb>data table notebook</a>'\n",
              "          + ' to learn more about interactive tables.';\n",
              "        element.innerHTML = '';\n",
              "        dataTable['output_type'] = 'display_data';\n",
              "        await google.colab.output.renderOutput(dataTable, element);\n",
              "        const docLink = document.createElement('div');\n",
              "        docLink.innerHTML = docLinkHtml;\n",
              "        element.appendChild(docLink);\n",
              "      }\n",
              "    </script>\n",
              "  </div>\n",
              "\n",
              "\n",
              "<div id=\"df-42fb61ae-66fc-4620-93ab-097e98d5b16e\">\n",
              "  <button class=\"colab-df-quickchart\" onclick=\"quickchart('df-42fb61ae-66fc-4620-93ab-097e98d5b16e')\"\n",
              "            title=\"Suggest charts\"\n",
              "            style=\"display:none;\">\n",
              "\n",
              "<svg xmlns=\"http://www.w3.org/2000/svg\" height=\"24px\"viewBox=\"0 0 24 24\"\n",
              "     width=\"24px\">\n",
              "    <g>\n",
              "        <path d=\"M19 3H5c-1.1 0-2 .9-2 2v14c0 1.1.9 2 2 2h14c1.1 0 2-.9 2-2V5c0-1.1-.9-2-2-2zM9 17H7v-7h2v7zm4 0h-2V7h2v10zm4 0h-2v-4h2v4z\"/>\n",
              "    </g>\n",
              "</svg>\n",
              "  </button>\n",
              "\n",
              "<style>\n",
              "  .colab-df-quickchart {\n",
              "      --bg-color: #E8F0FE;\n",
              "      --fill-color: #1967D2;\n",
              "      --hover-bg-color: #E2EBFA;\n",
              "      --hover-fill-color: #174EA6;\n",
              "      --disabled-fill-color: #AAA;\n",
              "      --disabled-bg-color: #DDD;\n",
              "  }\n",
              "\n",
              "  [theme=dark] .colab-df-quickchart {\n",
              "      --bg-color: #3B4455;\n",
              "      --fill-color: #D2E3FC;\n",
              "      --hover-bg-color: #434B5C;\n",
              "      --hover-fill-color: #FFFFFF;\n",
              "      --disabled-bg-color: #3B4455;\n",
              "      --disabled-fill-color: #666;\n",
              "  }\n",
              "\n",
              "  .colab-df-quickchart {\n",
              "    background-color: var(--bg-color);\n",
              "    border: none;\n",
              "    border-radius: 50%;\n",
              "    cursor: pointer;\n",
              "    display: none;\n",
              "    fill: var(--fill-color);\n",
              "    height: 32px;\n",
              "    padding: 0;\n",
              "    width: 32px;\n",
              "  }\n",
              "\n",
              "  .colab-df-quickchart:hover {\n",
              "    background-color: var(--hover-bg-color);\n",
              "    box-shadow: 0 1px 2px rgba(60, 64, 67, 0.3), 0 1px 3px 1px rgba(60, 64, 67, 0.15);\n",
              "    fill: var(--button-hover-fill-color);\n",
              "  }\n",
              "\n",
              "  .colab-df-quickchart-complete:disabled,\n",
              "  .colab-df-quickchart-complete:disabled:hover {\n",
              "    background-color: var(--disabled-bg-color);\n",
              "    fill: var(--disabled-fill-color);\n",
              "    box-shadow: none;\n",
              "  }\n",
              "\n",
              "  .colab-df-spinner {\n",
              "    border: 2px solid var(--fill-color);\n",
              "    border-color: transparent;\n",
              "    border-bottom-color: var(--fill-color);\n",
              "    animation:\n",
              "      spin 1s steps(1) infinite;\n",
              "  }\n",
              "\n",
              "  @keyframes spin {\n",
              "    0% {\n",
              "      border-color: transparent;\n",
              "      border-bottom-color: var(--fill-color);\n",
              "      border-left-color: var(--fill-color);\n",
              "    }\n",
              "    20% {\n",
              "      border-color: transparent;\n",
              "      border-left-color: var(--fill-color);\n",
              "      border-top-color: var(--fill-color);\n",
              "    }\n",
              "    30% {\n",
              "      border-color: transparent;\n",
              "      border-left-color: var(--fill-color);\n",
              "      border-top-color: var(--fill-color);\n",
              "      border-right-color: var(--fill-color);\n",
              "    }\n",
              "    40% {\n",
              "      border-color: transparent;\n",
              "      border-right-color: var(--fill-color);\n",
              "      border-top-color: var(--fill-color);\n",
              "    }\n",
              "    60% {\n",
              "      border-color: transparent;\n",
              "      border-right-color: var(--fill-color);\n",
              "    }\n",
              "    80% {\n",
              "      border-color: transparent;\n",
              "      border-right-color: var(--fill-color);\n",
              "      border-bottom-color: var(--fill-color);\n",
              "    }\n",
              "    90% {\n",
              "      border-color: transparent;\n",
              "      border-bottom-color: var(--fill-color);\n",
              "    }\n",
              "  }\n",
              "</style>\n",
              "\n",
              "  <script>\n",
              "    async function quickchart(key) {\n",
              "      const quickchartButtonEl =\n",
              "        document.querySelector('#' + key + ' button');\n",
              "      quickchartButtonEl.disabled = true;  // To prevent multiple clicks.\n",
              "      quickchartButtonEl.classList.add('colab-df-spinner');\n",
              "      try {\n",
              "        const charts = await google.colab.kernel.invokeFunction(\n",
              "            'suggestCharts', [key], {});\n",
              "      } catch (error) {\n",
              "        console.error('Error during call to suggestCharts:', error);\n",
              "      }\n",
              "      quickchartButtonEl.classList.remove('colab-df-spinner');\n",
              "      quickchartButtonEl.classList.add('colab-df-quickchart-complete');\n",
              "    }\n",
              "    (() => {\n",
              "      let quickchartButtonEl =\n",
              "        document.querySelector('#df-42fb61ae-66fc-4620-93ab-097e98d5b16e button');\n",
              "      quickchartButtonEl.style.display =\n",
              "        google.colab.kernel.accessAllowed ? 'block' : 'none';\n",
              "    })();\n",
              "  </script>\n",
              "</div>\n",
              "\n",
              "  <div id=\"id_8fcd6cf4-781b-4201-82b4-72907f34d552\">\n",
              "    <style>\n",
              "      .colab-df-generate {\n",
              "        background-color: #E8F0FE;\n",
              "        border: none;\n",
              "        border-radius: 50%;\n",
              "        cursor: pointer;\n",
              "        display: none;\n",
              "        fill: #1967D2;\n",
              "        height: 32px;\n",
              "        padding: 0 0 0 0;\n",
              "        width: 32px;\n",
              "      }\n",
              "\n",
              "      .colab-df-generate:hover {\n",
              "        background-color: #E2EBFA;\n",
              "        box-shadow: 0px 1px 2px rgba(60, 64, 67, 0.3), 0px 1px 3px 1px rgba(60, 64, 67, 0.15);\n",
              "        fill: #174EA6;\n",
              "      }\n",
              "\n",
              "      [theme=dark] .colab-df-generate {\n",
              "        background-color: #3B4455;\n",
              "        fill: #D2E3FC;\n",
              "      }\n",
              "\n",
              "      [theme=dark] .colab-df-generate:hover {\n",
              "        background-color: #434B5C;\n",
              "        box-shadow: 0px 1px 3px 1px rgba(0, 0, 0, 0.15);\n",
              "        filter: drop-shadow(0px 1px 2px rgba(0, 0, 0, 0.3));\n",
              "        fill: #FFFFFF;\n",
              "      }\n",
              "    </style>\n",
              "    <button class=\"colab-df-generate\" onclick=\"generateWithVariable('base_model_report')\"\n",
              "            title=\"Generate code using this dataframe.\"\n",
              "            style=\"display:none;\">\n",
              "\n",
              "  <svg xmlns=\"http://www.w3.org/2000/svg\" height=\"24px\"viewBox=\"0 0 24 24\"\n",
              "       width=\"24px\">\n",
              "    <path d=\"M7,19H8.4L18.45,9,17,7.55,7,17.6ZM5,21V16.75L18.45,3.32a2,2,0,0,1,2.83,0l1.4,1.43a1.91,1.91,0,0,1,.58,1.4,1.91,1.91,0,0,1-.58,1.4L9.25,21ZM18.45,9,17,7.55Zm-12,3A5.31,5.31,0,0,0,4.9,8.1,5.31,5.31,0,0,0,1,6.5,5.31,5.31,0,0,0,4.9,4.9,5.31,5.31,0,0,0,6.5,1,5.31,5.31,0,0,0,8.1,4.9,5.31,5.31,0,0,0,12,6.5,5.46,5.46,0,0,0,6.5,12Z\"/>\n",
              "  </svg>\n",
              "    </button>\n",
              "    <script>\n",
              "      (() => {\n",
              "      const buttonEl =\n",
              "        document.querySelector('#id_8fcd6cf4-781b-4201-82b4-72907f34d552 button.colab-df-generate');\n",
              "      buttonEl.style.display =\n",
              "        google.colab.kernel.accessAllowed ? 'block' : 'none';\n",
              "\n",
              "      buttonEl.onclick = () => {\n",
              "        google.colab.notebook.generateWithVariable('base_model_report');\n",
              "      }\n",
              "      })();\n",
              "    </script>\n",
              "  </div>\n",
              "\n",
              "    </div>\n",
              "  </div>\n"
            ],
            "text/plain": [
              "                  Model Name  Accuracy   ROC AUC\n",
              "3          Gradient Boosting    0.8122  0.501228\n",
              "5  Support Vector Classifier    0.8122  0.500000\n",
              "0        Logistic Regression    0.8116  0.503929\n",
              "6        AdaBoost Classifier    0.8105  0.501205\n",
              "4              XGBClassifier    0.8070  0.502530\n",
              "7             Neural Network    0.8040  0.512145\n",
              "1              Random Forest    0.7987  0.508882\n",
              "2              Decision Tree    0.7285  0.519292"
            ]
          },
          "execution_count": 24,
          "metadata": {},
          "output_type": "execute_result"
        }
      ],
      "source": [
        "base_model_report"
      ]
    },
    {
      "cell_type": "markdown",
      "metadata": {
        "id": "4WsFE5attf7q"
      },
      "source": [
        "## **Our Best model is  Gradient Boosting and its Accuracy is 81.22 percent.**"
      ]
    },
    {
      "cell_type": "markdown",
      "metadata": {
        "id": "CT93ZoaRttW5"
      },
      "source": [
        "## Confusion Matrix"
      ]
    },
    {
      "cell_type": "code",
      "execution_count": 29,
      "metadata": {
        "colab": {
          "base_uri": "https://localhost:8080/"
        },
        "id": "g10Xt6FSqBvW",
        "outputId": "6a66dfdb-c908-4e1a-ccff-ba1d7f5ef8ed"
      },
      "outputs": [
        {
          "name": "stderr",
          "output_type": "stream",
          "text": [
            "/usr/local/lib/python3.10/dist-packages/sklearn/ensemble/_gb.py:437: DataConversionWarning: A column-vector y was passed when a 1d array was expected. Please change the shape of y to (n_samples, ), for example using ravel().\n",
            "  y = column_or_1d(y, warn=True)\n"
          ]
        },
        {
          "name": "stdout",
          "output_type": "stream",
          "text": [
            "Confusion Matrix:\n",
            "[[8116    6]\n",
            " [1871    7]]\n",
            "\n",
            "Classification Report:\n",
            "              precision    recall  f1-score   support\n",
            "\n",
            "           0       0.81      1.00      0.90      8122\n",
            "           1       0.54      0.00      0.01      1878\n",
            "\n",
            "    accuracy                           0.81     10000\n",
            "   macro avg       0.68      0.50      0.45     10000\n",
            "weighted avg       0.76      0.81      0.73     10000\n",
            "\n"
          ]
        }
      ],
      "source": [
        "from sklearn.metrics import confusion_matrix, classification_report\n",
        "\n",
        "# Train the Gradient Boosting model on the training data\n",
        "best_model = GradientBoostingClassifier()\n",
        "best_model.fit(X_train, y_train)\n",
        "\n",
        "# Make predictions on the test set\n",
        "y_test_pred = best_model.predict(X_test)\n",
        "\n",
        "# Compute the confusion matrix\n",
        "conf_matrix = confusion_matrix(y_test, y_test_pred)\n",
        "\n",
        "# Compute the classification report\n",
        "class_report = classification_report(y_test, y_test_pred)\n",
        "\n",
        "# Display the results\n",
        "print(\"Confusion Matrix:\")\n",
        "print(conf_matrix)\n",
        "print(\"\\nClassification Report:\")\n",
        "print(class_report)\n"
      ]
    },
    {
      "cell_type": "code",
      "execution_count": 31,
      "metadata": {
        "colab": {
          "base_uri": "https://localhost:8080/",
          "height": 641
        },
        "id": "_1YiA8XDsZsT",
        "outputId": "5a24aa7c-9544-44a4-d307-d16bc2ed0946"
      },
      "outputs": [
        {
          "data": {
            "image/png": "[encoded data removed]",
            "text/plain": [
              "<Figure size 1000x700 with 2 Axes>"
            ]
          },
          "metadata": {},
          "output_type": "display_data"
        }
      ],
      "source": [
        "import matplotlib.pyplot as plt\n",
        "import seaborn as sns\n",
        "# Plot the confusion matrix as a heatmap\n",
        "plt.figure(figsize=(10, 7))\n",
        "sns.heatmap(conf_matrix, annot=True, fmt='d', cmap='Blues')\n",
        "plt.xlabel('Predicted')\n",
        "plt.ylabel('Actual')\n",
        "plt.title('Confusion Matrix')\n",
        "plt.show()"
      ]
    },
    {
      "cell_type": "code",
      "execution_count": null,
      "metadata": {
        "id": "iV0J2O7NseZY"
      },
      "outputs": [],
      "source": []
    }
  ],
  "metadata": {
    "accelerator": "GPU",
    "colab": {
      "gpuType": "T4",
      "provenance": []
    },
    "kernelspec": {
      "display_name": "Python 3",
      "name": "python3"
    },
    "language_info": {
      "name": "python"
    }
  },
  "nbformat": 4,
  "nbformat_minor": 0
}
